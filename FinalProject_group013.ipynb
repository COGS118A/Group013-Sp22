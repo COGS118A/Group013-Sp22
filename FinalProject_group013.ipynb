{
 "cells": [
  {
   "cell_type": "markdown",
   "metadata": {},
   "source": [
    "# COGS 118A - Final Project"
   ]
  },
  {
   "cell_type": "markdown",
   "metadata": {},
   "source": [
    "# COGS 118A- Project Checkpoint"
   ]
  },
  {
   "cell_type": "markdown",
   "metadata": {},
   "source": [
    "<div class=\"alert alert-block alert-info\">\n",
    "    <b>To access this final report</b>:\n",
    "    <ul>\n",
    "        <li> Members of teaching staff (instructor, TAs, IAs) have access at <a href=\"https://ucsdcloud-my.sharepoint.com/:w:/g/personal/gyye_ucsd_edu/EcoXh6zx8vlNkBQ9jUbRzoQBCAEl9eTxr_zYcjtEtv07pw\">https://ucsdcloud-my.sharepoint.com/:w:/g/personal/gyye_ucsd_edu/EcoXh6zx8vlNkBQ9jUbRzoQBCAEl9eTxr_zYcjtEtv07pw</a> (Active Directory sign-in required). Please email <kbd><b>gyye@ucsd.edu</b></kbd> for any link issues/access questions.\n",
    "     </ul>\n",
    "    <i>The project team requests that teaching staff and students refrain from sharing the contents of the checkpoint beyond what is required for grading, evaluation, or peer-review.</i>\n",
    "</div>"
   ]
  },
  {
   "cell_type": "markdown",
   "metadata": {
    "tags": []
   },
   "source": [
    "# Names\n",
    "- Gordon Ye\n",
    "- Nolan Chai\n",
    "- Prothit Halder\n",
    "- Natalie Kwong"
   ]
  }
 ],
 "metadata": {
  "kernelspec": {
   "display_name": "Python 3 (ipykernel)",
   "language": "python",
   "name": "python3"
  },
  "language_info": {
   "codemirror_mode": {
    "name": "ipython",
    "version": 3
   },
   "file_extension": ".py",
   "mimetype": "text/x-python",
   "name": "python",
   "nbconvert_exporter": "python",
   "pygments_lexer": "ipython3",
   "version": "3.10.4"
  }
 },
 "nbformat": 4,
 "nbformat_minor": 4
}
